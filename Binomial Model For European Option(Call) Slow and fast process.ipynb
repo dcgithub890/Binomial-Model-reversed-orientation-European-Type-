{
 "cells": [
  {
   "cell_type": "code",
   "execution_count": 2,
   "id": "500b59a2",
   "metadata": {},
   "outputs": [],
   "source": [
    "import numpy as np\n",
    "import time"
   ]
  },
  {
   "cell_type": "code",
   "execution_count": 3,
   "id": "a89d1678",
   "metadata": {},
   "outputs": [],
   "source": [
    "S0 = 100\n",
    "K = 100\n",
    "T = 1\n",
    "r = 0.06\n",
    "N = 3\n",
    "u=1.1\n",
    "d=1/u\n",
    "OptionType = \"C\""
   ]
  },
  {
   "cell_type": "code",
   "execution_count": 16,
   "id": "f7d3dd6b",
   "metadata": {},
   "outputs": [],
   "source": [
    "#defeining the required constants\n",
    "\n",
    "def binomial_tree_slow(K,T,S0,r,N,u,d,OptionType='C'): \n",
    "    \n",
    "    # Here we have set time of maturity 1 and we are dividing that \n",
    "    # 1 year into the N periods we want.\n",
    "    dt = T/N\n",
    "    #the risk neutral-probability measure\n",
    "    q= (np.exp(r*dt)-d)/(u-d)\n",
    "    #Discounted Fcator\n",
    "    disc = np.exp((-r)*dt)\n",
    "    \n",
    "    # underlying asset values at maturity by\n",
    "    # creating the array of zeros and fillling out the \n",
    "    # values of the underlying we have defined the last \n",
    "    # term that is (d^2*S0) and moving upward with multiplying \n",
    "    # this term with (u/d) we will get all the values of the \n",
    "    # underlying and we have n+1 because in N period model we\n",
    "    # we have N+1 Underlying value and N+1 Call option Values\n",
    "    \n",
    "    S= np.zeros(N+1)\n",
    "    S[0] = S0*d**N\n",
    "    for i in range(1,N+1):\n",
    "        S[i]=S[i-1]*u/d\n",
    "    \n",
    "    # Option values at maturity\n",
    "    # create the array of zeros and now we are finding the valuies of \n",
    "    # call option values at maturity just beacuse we know the value of \n",
    "    # underlying asset simple formula of the call opption max(St-K,0)\n",
    "    \n",
    "    \n",
    "    C=np.zeros(N+1)\n",
    "    for j in range(0,N+1):\n",
    "        C[j]= max(S[j]-K,0)\n",
    "        \n",
    "    # Moving back from maturity through nodes\n",
    "    # Finally we are calculating the values of the nodes which are in \n",
    "    # between of 0 and Maturity time . Now moving backward from maturity \n",
    "    # for each call option value while moving back we have apply the risk\n",
    "    # the risk measures as per the probablilities.Arrange function anf range \n",
    "    # function Last number is not included as range(0,3) it will go like\n",
    "    # 0,1,2 same with arrange last term is not included.\n",
    "    # here the loop is in terms of this case before coming to loop the \n",
    "    # the call values is defined as c[0],c[1]... and C[0] is the last \n",
    "    # value in that period which (D^3*S0)\n",
    "    \n",
    "    for i in np.arange(N,0,-1):\n",
    "        for j in range(0,i):\n",
    "            C[j] = disc*(q*C[j+1]+(1-q)*C[j])\n",
    "            \n",
    "    return C[0],time.time()\n",
    "        \n",
    "    \n"
   ]
  },
  {
   "cell_type": "code",
   "execution_count": 20,
   "id": "d3716f04",
   "metadata": {},
   "outputs": [
    {
     "data": {
      "text/plain": [
       "(99.92676892486057, 1701555455.0411637)"
      ]
     },
     "execution_count": 20,
     "metadata": {},
     "output_type": "execute_result"
    }
   ],
   "source": [
    "binomial_tree_slow(K,T,S0,r,5000,u,d,OptionType='C')"
   ]
  },
  {
   "cell_type": "markdown",
   "id": "3cfd0cbc",
   "metadata": {},
   "source": [
    "# Faster Method Vector method\n"
   ]
  },
  {
   "cell_type": "code",
   "execution_count": 14,
   "id": "bc711077",
   "metadata": {},
   "outputs": [],
   "source": [
    " #defeining the required constants\n",
    "\n",
    "def binomial_tree_fast(K,T,S0,r,N,u,d,OptionType='C'): \n",
    "    \n",
    "    # Here we have set time of maturity 1 and we are dividing that \n",
    "    # 1 year into the N periods we want.\n",
    "    dt = T/N\n",
    "    #the risk neutral-probability measure\n",
    "    q= (np.exp(r*dt)-d)/(u-d)\n",
    "    #Discounted Fcator\n",
    "    disc = np.exp((-r)*dt)\n",
    "    \n",
    "    # underlying asset values at maturity by\n",
    "    # C here is a vector now\n",
    "    \n",
    "    C= S0 * d ** (np.arange(N,-1,-1)) * u ** (np.arange(0,N+1,1))\n",
    "    \n",
    "    \n",
    "    # Option values at maturity\n",
    "     \n",
    "    C = np.maximum(C-K,np.zeros(N+1))\n",
    "    \n",
    "      \n",
    "    # Moving back from maturity through nodes\n",
    "    # We are using numpy slicing to ofset arrays by 1.So\n",
    "    # C[1:i+1] is up vector c[0:i] is a down vector\n",
    "         \n",
    "    for i in np.arange(N,0,-1):\n",
    "        C= disc * (q*C[1:i+1]+(1-q)*C[0:i])\n",
    "            \n",
    "    return C[0],time.time()\n",
    "        \n",
    "    \n"
   ]
  },
  {
   "cell_type": "code",
   "execution_count": 19,
   "id": "00e87f0b",
   "metadata": {},
   "outputs": [
    {
     "data": {
      "text/plain": [
       "(99.92676892486006, 1701555444.6717596)"
      ]
     },
     "execution_count": 19,
     "metadata": {},
     "output_type": "execute_result"
    }
   ],
   "source": [
    "binomial_tree_fast(K,T,S0,r,5000,u,d,OptionType='C')"
   ]
  },
  {
   "cell_type": "code",
   "execution_count": null,
   "id": "24bf9ead",
   "metadata": {},
   "outputs": [],
   "source": []
  }
 ],
 "metadata": {
  "kernelspec": {
   "display_name": "Python 3 (ipykernel)",
   "language": "python",
   "name": "python3"
  },
  "language_info": {
   "codemirror_mode": {
    "name": "ipython",
    "version": 3
   },
   "file_extension": ".py",
   "mimetype": "text/x-python",
   "name": "python",
   "nbconvert_exporter": "python",
   "pygments_lexer": "ipython3",
   "version": "3.11.4"
  }
 },
 "nbformat": 4,
 "nbformat_minor": 5
}
